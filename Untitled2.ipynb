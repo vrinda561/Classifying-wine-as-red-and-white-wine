{
  "nbformat": 4,
  "nbformat_minor": 0,
  "metadata": {
    "colab": {
      "name": "Untitled2.ipynb",
      "provenance": [],
      "authorship_tag": "ABX9TyPyl9jcNFqzh8g6PS1xr50p",
      "include_colab_link": true
    },
    "kernelspec": {
      "name": "python3",
      "display_name": "Python 3"
    },
    "language_info": {
      "name": "python"
    }
  },
  "cells": [
    {
      "cell_type": "markdown",
      "metadata": {
        "id": "view-in-github",
        "colab_type": "text"
      },
      "source": [
        "<a href=\"https://colab.research.google.com/github/vrinda561/Classifying-wine-as-red-and-white-wine/blob/main/Untitled2.ipynb\" target=\"_parent\"><img src=\"https://colab.research.google.com/assets/colab-badge.svg\" alt=\"Open In Colab\"/></a>"
      ]
    },
    {
      "cell_type": "code",
      "metadata": {
        "id": "UyXdkgrxEVtk"
      },
      "source": [
        "import numpy as np\n",
        "import pandas as pd\n",
        "import tensorflow as tf"
      ],
      "execution_count": 16,
      "outputs": []
    },
    {
      "cell_type": "code",
      "metadata": {
        "id": "Iya35wzpE0nO"
      },
      "source": [
        "dataset = pd.read_csv(\"Wine_Quality_Data.csv\")\n",
        "x = dataset.iloc[1:,0:-1].values\n",
        "y = dataset.iloc[1:,-1].values"
      ],
      "execution_count": 2,
      "outputs": []
    },
    {
      "cell_type": "code",
      "metadata": {
        "id": "d4Nn8cogI0w0"
      },
      "source": [
        "from sklearn.preprocessing import LabelEncoder\n",
        "le = LabelEncoder()\n",
        "y = le.fit_transform(y)"
      ],
      "execution_count": 3,
      "outputs": []
    },
    {
      "cell_type": "code",
      "metadata": {
        "id": "Qykaf97IL4cY"
      },
      "source": [
        "from sklearn.model_selection import train_test_split\n",
        "x_train,x_test,y_train,y_test = train_test_split(x,y,test_size =0.2)\n"
      ],
      "execution_count": 14,
      "outputs": []
    },
    {
      "cell_type": "code",
      "metadata": {
        "id": "TFeoBVmuMj11"
      },
      "source": [
        "from sklearn.preprocessing import StandardScaler\n",
        "sc = StandardScaler()\n",
        "x_train[:,:] = sc.fit_transform(x_train[:,:])\n",
        "x_test[:,:] = sc.transform(x_test[:,:])"
      ],
      "execution_count": 15,
      "outputs": []
    },
    {
      "cell_type": "code",
      "metadata": {
        "id": "MIKZPvMlM6E3"
      },
      "source": [
        "ann = tf.keras.models.Sequential()"
      ],
      "execution_count": 17,
      "outputs": []
    },
    {
      "cell_type": "code",
      "metadata": {
        "id": "WgYyEFWaNHuw"
      },
      "source": [
        "ann.add(tf.keras.layers.Dense(units = 12, activation = 'relu'))"
      ],
      "execution_count": 18,
      "outputs": []
    },
    {
      "cell_type": "code",
      "metadata": {
        "id": "2CFEdJ-4NdJU"
      },
      "source": [
        "ann.add(tf.keras.layers.Dense(units = 12, activation = 'relu'))"
      ],
      "execution_count": 19,
      "outputs": []
    },
    {
      "cell_type": "code",
      "metadata": {
        "id": "U19qZhN7NhLy"
      },
      "source": [
        "ann.add(tf.keras.layers.Dense(units = 1,activation = 'sigmoid'))"
      ],
      "execution_count": 21,
      "outputs": []
    },
    {
      "cell_type": "code",
      "metadata": {
        "id": "wi2iJG-gNqSU"
      },
      "source": [
        "ann.compile(optimizer = 'adam',loss = 'binary_crossentropy', metrics = ['accuracy'])"
      ],
      "execution_count": 22,
      "outputs": []
    },
    {
      "cell_type": "code",
      "metadata": {
        "colab": {
          "base_uri": "https://localhost:8080/"
        },
        "id": "J5HyNUqEOEC0",
        "outputId": "248e3edb-93b4-499f-ffaf-12d529380f14"
      },
      "source": [
        "ann.fit(x_train,y_train,batch_size = 32,epochs =100)"
      ],
      "execution_count": 23,
      "outputs": [
        {
          "output_type": "stream",
          "text": [
            "Epoch 1/100\n",
            "163/163 [==============================] - 1s 1ms/step - loss: 0.4275 - accuracy: 0.8224\n",
            "Epoch 2/100\n",
            "163/163 [==============================] - 0s 1ms/step - loss: 0.1404 - accuracy: 0.9669\n",
            "Epoch 3/100\n",
            "163/163 [==============================] - 0s 1ms/step - loss: 0.0695 - accuracy: 0.9829\n",
            "Epoch 4/100\n",
            "163/163 [==============================] - 0s 1ms/step - loss: 0.0519 - accuracy: 0.9852\n",
            "Epoch 5/100\n",
            "163/163 [==============================] - 0s 1ms/step - loss: 0.0437 - accuracy: 0.9888\n",
            "Epoch 6/100\n",
            "163/163 [==============================] - 0s 1ms/step - loss: 0.0391 - accuracy: 0.9906\n",
            "Epoch 7/100\n",
            "163/163 [==============================] - 0s 1ms/step - loss: 0.0357 - accuracy: 0.9911\n",
            "Epoch 8/100\n",
            "163/163 [==============================] - 0s 1ms/step - loss: 0.0332 - accuracy: 0.9925\n",
            "Epoch 9/100\n",
            "163/163 [==============================] - 0s 1ms/step - loss: 0.0312 - accuracy: 0.9933\n",
            "Epoch 10/100\n",
            "163/163 [==============================] - 0s 1ms/step - loss: 0.0295 - accuracy: 0.9935\n",
            "Epoch 11/100\n",
            "163/163 [==============================] - 0s 1ms/step - loss: 0.0280 - accuracy: 0.9940\n",
            "Epoch 12/100\n",
            "163/163 [==============================] - 0s 1ms/step - loss: 0.0266 - accuracy: 0.9946\n",
            "Epoch 13/100\n",
            "163/163 [==============================] - 0s 1ms/step - loss: 0.0258 - accuracy: 0.9944\n",
            "Epoch 14/100\n",
            "163/163 [==============================] - 0s 1ms/step - loss: 0.0245 - accuracy: 0.9948\n",
            "Epoch 15/100\n",
            "163/163 [==============================] - 0s 1ms/step - loss: 0.0236 - accuracy: 0.9944\n",
            "Epoch 16/100\n",
            "163/163 [==============================] - 0s 1ms/step - loss: 0.0226 - accuracy: 0.9948\n",
            "Epoch 17/100\n",
            "163/163 [==============================] - 0s 1ms/step - loss: 0.0219 - accuracy: 0.9948\n",
            "Epoch 18/100\n",
            "163/163 [==============================] - 0s 1ms/step - loss: 0.0210 - accuracy: 0.9950\n",
            "Epoch 19/100\n",
            "163/163 [==============================] - 0s 1ms/step - loss: 0.0205 - accuracy: 0.9956\n",
            "Epoch 20/100\n",
            "163/163 [==============================] - 0s 1ms/step - loss: 0.0199 - accuracy: 0.9952\n",
            "Epoch 21/100\n",
            "163/163 [==============================] - 0s 1ms/step - loss: 0.0195 - accuracy: 0.9952\n",
            "Epoch 22/100\n",
            "163/163 [==============================] - 0s 1ms/step - loss: 0.0189 - accuracy: 0.9960\n",
            "Epoch 23/100\n",
            "163/163 [==============================] - 0s 1ms/step - loss: 0.0184 - accuracy: 0.9952\n",
            "Epoch 24/100\n",
            "163/163 [==============================] - 0s 1ms/step - loss: 0.0179 - accuracy: 0.9958\n",
            "Epoch 25/100\n",
            "163/163 [==============================] - 0s 1ms/step - loss: 0.0175 - accuracy: 0.9958\n",
            "Epoch 26/100\n",
            "163/163 [==============================] - 0s 1ms/step - loss: 0.0174 - accuracy: 0.9960\n",
            "Epoch 27/100\n",
            "163/163 [==============================] - 0s 1ms/step - loss: 0.0169 - accuracy: 0.9958\n",
            "Epoch 28/100\n",
            "163/163 [==============================] - 0s 1ms/step - loss: 0.0168 - accuracy: 0.9958\n",
            "Epoch 29/100\n",
            "163/163 [==============================] - 0s 1ms/step - loss: 0.0163 - accuracy: 0.9962\n",
            "Epoch 30/100\n",
            "163/163 [==============================] - 0s 1ms/step - loss: 0.0159 - accuracy: 0.9962\n",
            "Epoch 31/100\n",
            "163/163 [==============================] - 0s 1ms/step - loss: 0.0157 - accuracy: 0.9962\n",
            "Epoch 32/100\n",
            "163/163 [==============================] - 0s 1ms/step - loss: 0.0154 - accuracy: 0.9962\n",
            "Epoch 33/100\n",
            "163/163 [==============================] - 0s 1ms/step - loss: 0.0149 - accuracy: 0.9965\n",
            "Epoch 34/100\n",
            "163/163 [==============================] - 0s 1ms/step - loss: 0.0145 - accuracy: 0.9963\n",
            "Epoch 35/100\n",
            "163/163 [==============================] - 0s 1ms/step - loss: 0.0143 - accuracy: 0.9967\n",
            "Epoch 36/100\n",
            "163/163 [==============================] - 0s 1ms/step - loss: 0.0141 - accuracy: 0.9969\n",
            "Epoch 37/100\n",
            "163/163 [==============================] - 0s 1ms/step - loss: 0.0138 - accuracy: 0.9967\n",
            "Epoch 38/100\n",
            "163/163 [==============================] - 0s 1ms/step - loss: 0.0135 - accuracy: 0.9971\n",
            "Epoch 39/100\n",
            "163/163 [==============================] - 0s 1ms/step - loss: 0.0133 - accuracy: 0.9969\n",
            "Epoch 40/100\n",
            "163/163 [==============================] - 0s 1ms/step - loss: 0.0129 - accuracy: 0.9965\n",
            "Epoch 41/100\n",
            "163/163 [==============================] - 0s 1ms/step - loss: 0.0127 - accuracy: 0.9971\n",
            "Epoch 42/100\n",
            "163/163 [==============================] - 0s 1ms/step - loss: 0.0124 - accuracy: 0.9971\n",
            "Epoch 43/100\n",
            "163/163 [==============================] - 0s 1ms/step - loss: 0.0122 - accuracy: 0.9973\n",
            "Epoch 44/100\n",
            "163/163 [==============================] - 0s 1ms/step - loss: 0.0120 - accuracy: 0.9969\n",
            "Epoch 45/100\n",
            "163/163 [==============================] - 0s 1ms/step - loss: 0.0115 - accuracy: 0.9975\n",
            "Epoch 46/100\n",
            "163/163 [==============================] - 0s 1ms/step - loss: 0.0115 - accuracy: 0.9971\n",
            "Epoch 47/100\n",
            "163/163 [==============================] - 0s 1ms/step - loss: 0.0113 - accuracy: 0.9971\n",
            "Epoch 48/100\n",
            "163/163 [==============================] - 0s 1ms/step - loss: 0.0114 - accuracy: 0.9971\n",
            "Epoch 49/100\n",
            "163/163 [==============================] - 0s 1ms/step - loss: 0.0109 - accuracy: 0.9975\n",
            "Epoch 50/100\n",
            "163/163 [==============================] - 0s 1ms/step - loss: 0.0106 - accuracy: 0.9975\n",
            "Epoch 51/100\n",
            "163/163 [==============================] - 0s 1ms/step - loss: 0.0104 - accuracy: 0.9973\n",
            "Epoch 52/100\n",
            "163/163 [==============================] - 0s 1ms/step - loss: 0.0101 - accuracy: 0.9979\n",
            "Epoch 53/100\n",
            "163/163 [==============================] - 0s 1ms/step - loss: 0.0101 - accuracy: 0.9977\n",
            "Epoch 54/100\n",
            "163/163 [==============================] - 0s 1ms/step - loss: 0.0098 - accuracy: 0.9975\n",
            "Epoch 55/100\n",
            "163/163 [==============================] - 0s 1ms/step - loss: 0.0096 - accuracy: 0.9981\n",
            "Epoch 56/100\n",
            "163/163 [==============================] - 0s 1ms/step - loss: 0.0095 - accuracy: 0.9979\n",
            "Epoch 57/100\n",
            "163/163 [==============================] - 0s 1ms/step - loss: 0.0090 - accuracy: 0.9981\n",
            "Epoch 58/100\n",
            "163/163 [==============================] - 0s 1ms/step - loss: 0.0091 - accuracy: 0.9981\n",
            "Epoch 59/100\n",
            "163/163 [==============================] - 0s 1ms/step - loss: 0.0086 - accuracy: 0.9979\n",
            "Epoch 60/100\n",
            "163/163 [==============================] - 0s 1ms/step - loss: 0.0086 - accuracy: 0.9981\n",
            "Epoch 61/100\n",
            "163/163 [==============================] - 0s 1ms/step - loss: 0.0086 - accuracy: 0.9983\n",
            "Epoch 62/100\n",
            "163/163 [==============================] - 0s 1ms/step - loss: 0.0084 - accuracy: 0.9985\n",
            "Epoch 63/100\n",
            "163/163 [==============================] - 0s 1ms/step - loss: 0.0083 - accuracy: 0.9985\n",
            "Epoch 64/100\n",
            "163/163 [==============================] - 0s 1ms/step - loss: 0.0080 - accuracy: 0.9985\n",
            "Epoch 65/100\n",
            "163/163 [==============================] - 0s 1ms/step - loss: 0.0078 - accuracy: 0.9987\n",
            "Epoch 66/100\n",
            "163/163 [==============================] - 0s 1ms/step - loss: 0.0076 - accuracy: 0.9987\n",
            "Epoch 67/100\n",
            "163/163 [==============================] - 0s 1ms/step - loss: 0.0076 - accuracy: 0.9988\n",
            "Epoch 68/100\n",
            "163/163 [==============================] - 0s 1ms/step - loss: 0.0076 - accuracy: 0.9983\n",
            "Epoch 69/100\n",
            "163/163 [==============================] - 0s 1ms/step - loss: 0.0073 - accuracy: 0.9987\n",
            "Epoch 70/100\n",
            "163/163 [==============================] - 0s 1ms/step - loss: 0.0073 - accuracy: 0.9988\n",
            "Epoch 71/100\n",
            "163/163 [==============================] - 0s 1ms/step - loss: 0.0073 - accuracy: 0.9987\n",
            "Epoch 72/100\n",
            "163/163 [==============================] - 0s 1ms/step - loss: 0.0069 - accuracy: 0.9990\n",
            "Epoch 73/100\n",
            "163/163 [==============================] - 0s 1ms/step - loss: 0.0069 - accuracy: 0.9988\n",
            "Epoch 74/100\n",
            "163/163 [==============================] - 0s 1ms/step - loss: 0.0069 - accuracy: 0.9988\n",
            "Epoch 75/100\n",
            "163/163 [==============================] - 0s 1ms/step - loss: 0.0067 - accuracy: 0.9988\n",
            "Epoch 76/100\n",
            "163/163 [==============================] - 0s 1ms/step - loss: 0.0065 - accuracy: 0.9990\n",
            "Epoch 77/100\n",
            "163/163 [==============================] - 0s 1ms/step - loss: 0.0067 - accuracy: 0.9987\n",
            "Epoch 78/100\n",
            "163/163 [==============================] - 0s 1ms/step - loss: 0.0063 - accuracy: 0.9988\n",
            "Epoch 79/100\n",
            "163/163 [==============================] - 0s 1ms/step - loss: 0.0061 - accuracy: 0.9988\n",
            "Epoch 80/100\n",
            "163/163 [==============================] - 0s 1ms/step - loss: 0.0063 - accuracy: 0.9990\n",
            "Epoch 81/100\n",
            "163/163 [==============================] - 0s 1ms/step - loss: 0.0059 - accuracy: 0.9990\n",
            "Epoch 82/100\n",
            "163/163 [==============================] - 0s 1ms/step - loss: 0.0059 - accuracy: 0.9992\n",
            "Epoch 83/100\n",
            "163/163 [==============================] - 0s 1ms/step - loss: 0.0059 - accuracy: 0.9990\n",
            "Epoch 84/100\n",
            "163/163 [==============================] - 0s 1ms/step - loss: 0.0056 - accuracy: 0.9992\n",
            "Epoch 85/100\n",
            "163/163 [==============================] - 0s 1ms/step - loss: 0.0057 - accuracy: 0.9988\n",
            "Epoch 86/100\n",
            "163/163 [==============================] - 0s 1ms/step - loss: 0.0057 - accuracy: 0.9987\n",
            "Epoch 87/100\n",
            "163/163 [==============================] - 0s 1ms/step - loss: 0.0053 - accuracy: 0.9990\n",
            "Epoch 88/100\n",
            "163/163 [==============================] - 0s 1ms/step - loss: 0.0053 - accuracy: 0.9992\n",
            "Epoch 89/100\n",
            "163/163 [==============================] - 0s 1ms/step - loss: 0.0052 - accuracy: 0.9992\n",
            "Epoch 90/100\n",
            "163/163 [==============================] - 0s 1ms/step - loss: 0.0053 - accuracy: 0.9990\n",
            "Epoch 91/100\n",
            "163/163 [==============================] - 0s 1ms/step - loss: 0.0053 - accuracy: 0.9988\n",
            "Epoch 92/100\n",
            "163/163 [==============================] - 0s 1ms/step - loss: 0.0050 - accuracy: 0.9990\n",
            "Epoch 93/100\n",
            "163/163 [==============================] - 0s 1ms/step - loss: 0.0050 - accuracy: 0.9990\n",
            "Epoch 94/100\n",
            "163/163 [==============================] - 0s 1ms/step - loss: 0.0048 - accuracy: 0.9992\n",
            "Epoch 95/100\n",
            "163/163 [==============================] - 0s 1ms/step - loss: 0.0047 - accuracy: 0.9990\n",
            "Epoch 96/100\n",
            "163/163 [==============================] - 0s 1ms/step - loss: 0.0045 - accuracy: 0.9992\n",
            "Epoch 97/100\n",
            "163/163 [==============================] - 0s 1ms/step - loss: 0.0049 - accuracy: 0.9992\n",
            "Epoch 98/100\n",
            "163/163 [==============================] - 0s 1ms/step - loss: 0.0046 - accuracy: 0.9992\n",
            "Epoch 99/100\n",
            "163/163 [==============================] - 0s 1ms/step - loss: 0.0043 - accuracy: 0.9992\n",
            "Epoch 100/100\n",
            "163/163 [==============================] - 0s 1ms/step - loss: 0.0044 - accuracy: 0.9994\n"
          ],
          "name": "stdout"
        },
        {
          "output_type": "execute_result",
          "data": {
            "text/plain": [
              "<tensorflow.python.keras.callbacks.History at 0x7f31f62a4b90>"
            ]
          },
          "metadata": {
            "tags": []
          },
          "execution_count": 23
        }
      ]
    },
    {
      "cell_type": "code",
      "metadata": {
        "colab": {
          "base_uri": "https://localhost:8080/"
        },
        "id": "nUujW3XrOqZQ",
        "outputId": "776b6e40-5354-4607-bddf-82266a1b7435"
      },
      "source": [
        "print(ann.predict(sc.transform([[7.4,0.7,0.06,2.5,0.066,64,170,0.9954,3.89,0.5,12.1,8]]))>0.5)"
      ],
      "execution_count": 28,
      "outputs": [
        {
          "output_type": "stream",
          "text": [
            "[[False]]\n"
          ],
          "name": "stdout"
        }
      ]
    }
  ]
}